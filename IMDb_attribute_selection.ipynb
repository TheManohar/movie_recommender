{
 "cells": [
  {
   "cell_type": "code",
   "execution_count": null,
   "metadata": {},
   "outputs": [],
   "source": [
    "title.akas.tsv.gz - Contains the following information for titles:\n",
    "    titleId (string) - a tconst, an alphanumeric unique identifier of the title\n",
    "    ordering (integer) – a number to uniquely identify rows for a given titleId\n",
    "    title (string) – the localized title\n",
    "    #region (string) - the region for this version of the title\n",
    "    language (string) - the language of the title\n",
    "    #types (array) - Enumerated set of attributes for this alternative title. One or more of the following: \"alternative\", \"dvd\", \"festival\", \"tv\", \"video\", \"working\", \"original\", \"imdbDisplay\". New values may be added in the future without warning\n",
    "    #attributes (array) - Additional terms to describe this alternative title, not enumerated\n",
    "    isOriginalTitle (boolean) – 0: not original title; 1: original title\n",
    "\n",
    "title.basics.tsv.gz - Contains the following information for titles:\n",
    "    tconst (string) - alphanumeric unique identifier of the title\n",
    "    titleType (string) – the type/format of the title (e.g. movie, short, tvseries, tvepisode, video, etc)\n",
    "    #primaryTitle (string) – the more popular title / the title used by the filmmakers on promotional materials at the point of release\n",
    "    originalTitle (string) - original title, in the original language\n",
    "    #isAdult (boolean) - 0: non-adult title; 1: adult title\n",
    "    startYear (YYYY) – represents the release year of a title. In the case of TV Series, it is the series start year\n",
    "    #endYear (YYYY) – TV Series end year. ‘\\N’ for all other title types\n",
    "    #runtimeMinutes – primary runtime of the title, in minutes\n",
    "    genres (string array) – includes up to three genres associated with the title\n",
    "\n",
    "#title.crew.tsv.gz – Contains the director and writer information for all the titles in IMDb. Fields include:\n",
    "    #tconst (string) - alphanumeric unique identifier of the title\n",
    "    #directors (array of nconsts) - director(s) of the given title\n",
    "    #writers (array of nconsts) – writer(s) of the given title\n",
    "\n",
    "#title.episode.tsv.gz – Contains the tv episode information. Fields include:\n",
    "    #tconst (string) - alphanumeric identifier of episode\n",
    "    #parentTconst (string) - alphanumeric identifier of the parent TV Series\n",
    "    #seasonNumber (integer) – season number the episode belongs to\n",
    "    #episodeNumber (integer) – episode number of the tconst in the TV series\n",
    "\n",
    "#title.principals.tsv.gz – Contains the principal cast/crew for titles\n",
    "    #tconst (string) - alphanumeric unique identifier of the title\n",
    "    #ordering (integer) – a number to uniquely identify rows for a given titleId\n",
    "    #nconst (string) - alphanumeric unique identifier of the name/person\n",
    "    #category (string) - the category of job that person was in\n",
    "    #job (string) - the specific job title if applicable, else '\\N'\n",
    "    #characters (string) - the name of the character played if applicable, else '\\N'\n",
    "\n",
    "title.ratings.tsv.gz – Contains the IMDb rating and votes information for titles\n",
    "    tconst (string) - alphanumeric unique identifier of the title\n",
    "    averageRating – weighted average of all the individual user ratings\n",
    "    numVotes - number of votes the title has received\n",
    "\n",
    "#name.basics.tsv.gz – Contains the following information for names:\n",
    "    #nconst (string) - alphanumeric unique identifier of the name/person\n",
    "    #primaryName (string)– name by which the person is most often credited\n",
    "    #birthYear – in YYYY format\n",
    "    #deathYear – in YYYY format if applicable, else '\\N'\n",
    "    #primaryProfession (array of strings)– the top-3 professions of the person\n",
    "    #knownForTitles (array of tconsts) – titles the person is known for"
   ]
  }
 ],
 "metadata": {
  "kernelspec": {
   "display_name": "Python 3",
   "language": "python",
   "name": "python3"
  },
  "language_info": {
   "codemirror_mode": {
    "name": "ipython",
    "version": 3
   },
   "file_extension": ".py",
   "mimetype": "text/x-python",
   "name": "python",
   "nbconvert_exporter": "python",
   "pygments_lexer": "ipython3",
   "version": "3.6.5"
  }
 },
 "nbformat": 4,
 "nbformat_minor": 2
}
